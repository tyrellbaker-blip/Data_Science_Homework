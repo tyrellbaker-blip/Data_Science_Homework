{
 "cells": [
  {
   "cell_type": "markdown",
   "id": "f672fd78",
   "metadata": {
    "id": "f672fd78"
   },
   "source": [
    "# How do attendance and homework scores impact course grades?\n",
    "\n",
    "Glenn Bruns, CSUMB"
   ]
  },
  {
   "cell_type": "markdown",
   "id": "3b0934fe",
   "metadata": {
    "id": "3b0934fe"
   },
   "source": [
    "It's interesting to look at how absences and missing homework assignments relate to course grades.\n",
    "\n",
    "I created a data set by taking grade information from a section of CST 383 from a couple of years ago, anonymizing the data, and then randomizing the data a little.  So this data is not real, but the results you'll get will be similar to what you'd get with the real data.\n",
    "\n",
    "Every row in the dataset represents a student.  The columns give average scores for things like homework, quizzes, and projects, the total score for the course, the number of absences, and the number of homework assignments not turned in.  (I treated homework assignments with very low scores as missing homework assignments.)"
   ]
  },
  {
   "cell_type": "markdown",
   "id": "6824c0dd",
   "metadata": {
    "id": "6824c0dd"
   },
   "source": [
    "### Instructions (read carefully)\n",
    "\n",
    "- After each problem, enter your code in the cell below.  Never modify dataframe df.\n",
    "\n",
    "- Do not modify any other cells, except for the cell below that specifies the default plot size.  Don't add any import statements.\n",
    "\n",
    "- Try to produce the same output as in the sample output.  This includes text in printed probabilities, and titles, axis labels, etc., in plot.\n",
    "\n",
    "- If a cell contains plotting statements, but sure to add a semi-colon after the last plotting statement in the cell.\n",
    "\n",
    "- Points will be deducted for code that is untidy or achieves the result in a strange way.  All output values must be computed.\n",
    "\n",
    "- Be sure to run your notebook from top to bottom before submitting.  A significant penalty will be applied if not.\n",
    "\n",
    "v0.1"
   ]
  },
  {
   "cell_type": "code",
   "execution_count": 3,
   "id": "4d8e628d",
   "metadata": {
    "executionInfo": {
     "elapsed": 2589,
     "status": "ok",
     "timestamp": 1695852746131,
     "user": {
      "displayName": "Glenn",
      "userId": "10553525024667050874"
     },
     "user_tz": 420
    },
    "id": "4d8e628d",
    "ExecuteTime": {
     "end_time": "2023-10-03T23:18:04.853355Z",
     "start_time": "2023-10-03T23:18:04.818748Z"
    }
   },
   "outputs": [],
   "source": [
    "import numpy as np\n",
    "import pandas as pd\n",
    "import matplotlib.pyplot as plt\n",
    "from matplotlib import rcParams\n",
    "import seaborn as sns"
   ]
  },
  {
   "cell_type": "markdown",
   "id": "11e4ef68",
   "metadata": {
    "id": "11e4ef68"
   },
   "source": [
    "#### Set plotting options"
   ]
  },
  {
   "cell_type": "code",
   "execution_count": 4,
   "id": "f3e9fd42",
   "metadata": {
    "cellView": "form",
    "executionInfo": {
     "elapsed": 268,
     "status": "ok",
     "timestamp": 1695852752179,
     "user": {
      "displayName": "Glenn",
      "userId": "10553525024667050874"
     },
     "user_tz": 420
    },
    "id": "f3e9fd42",
    "ExecuteTime": {
     "end_time": "2023-10-03T23:18:07.381126Z",
     "start_time": "2023-10-03T23:18:07.346019Z"
    }
   },
   "outputs": [],
   "source": [
    "# see https://seaborn.pydata.org/tutorial/aesthetics.html\n",
    "sns.set_theme(style='whitegrid', context='notebook')"
   ]
  },
  {
   "cell_type": "markdown",
   "id": "e9abf288",
   "metadata": {
    "id": "e9abf288"
   },
   "source": [
    "You may need to modify the code in this cell, depending on your device."
   ]
  },
  {
   "cell_type": "code",
   "execution_count": 5,
   "id": "67f9a934",
   "metadata": {
    "cellView": "form",
    "executionInfo": {
     "elapsed": 180,
     "status": "ok",
     "timestamp": 1695852753591,
     "user": {
      "displayName": "Glenn",
      "userId": "10553525024667050874"
     },
     "user_tz": 420
    },
    "id": "67f9a934",
    "ExecuteTime": {
     "end_time": "2023-10-03T23:18:09.357090Z",
     "start_time": "2023-10-03T23:18:09.274753Z"
    }
   },
   "outputs": [],
   "source": [
    "# default plot size\n",
    "rcParams['figure.figsize'] = 5,3"
   ]
  },
  {
   "cell_type": "markdown",
   "id": "67cd4476",
   "metadata": {
    "id": "67cd4476"
   },
   "source": [
    "### Read the data"
   ]
  },
  {
   "cell_type": "code",
   "execution_count": 6,
   "id": "0eccf5af",
   "metadata": {
    "cellView": "form",
    "executionInfo": {
     "elapsed": 312,
     "status": "ok",
     "timestamp": 1695852758511,
     "user": {
      "displayName": "Glenn",
      "userId": "10553525024667050874"
     },
     "user_tz": 420
    },
    "id": "0eccf5af",
    "ExecuteTime": {
     "end_time": "2023-10-03T23:18:10.793727Z",
     "start_time": "2023-10-03T23:18:10.581981Z"
    }
   },
   "outputs": [],
   "source": [
    "df = pd.read_csv('https://raw.githubusercontent.com/grbruns/cst383/master/fake-grades.csv')"
   ]
  },
  {
   "cell_type": "markdown",
   "id": "t2N5v8_csTSr",
   "metadata": {
    "id": "t2N5v8_csTSr"
   },
   "source": [
    "df_cont is a data frame containing only the continuous variables in df.  These variables are on about the same scale."
   ]
  },
  {
   "cell_type": "code",
   "execution_count": 7,
   "id": "ZgP6FV8tsbVz",
   "metadata": {
    "executionInfo": {
     "elapsed": 311,
     "status": "ok",
     "timestamp": 1695852845539,
     "user": {
      "displayName": "Glenn",
      "userId": "10553525024667050874"
     },
     "user_tz": 420
    },
    "id": "ZgP6FV8tsbVz",
    "ExecuteTime": {
     "end_time": "2023-10-03T23:18:11.889825Z",
     "start_time": "2023-10-03T23:18:11.872384Z"
    }
   },
   "outputs": [],
   "source": [
    "df_cont = df[['Homework', 'Quizzes', 'Projects', 'Final', 'Total']]"
   ]
  },
  {
   "cell_type": "markdown",
   "id": "9qMrPBi9sjar",
   "metadata": {
    "id": "9qMrPBi9sjar"
   },
   "source": [
    "Add a variable giving the ratio of homework scores to quiz scores."
   ]
  },
  {
   "cell_type": "code",
   "execution_count": 8,
   "id": "U44E5mkwshsh",
   "metadata": {
    "executionInfo": {
     "elapsed": 161,
     "status": "ok",
     "timestamp": 1695852846889,
     "user": {
      "displayName": "Glenn",
      "userId": "10553525024667050874"
     },
     "user_tz": 420
    },
    "id": "U44E5mkwshsh",
    "ExecuteTime": {
     "end_time": "2023-10-03T23:18:13.285224Z",
     "start_time": "2023-10-03T23:18:13.249448Z"
    }
   },
   "outputs": [],
   "source": [
    "df['HW_Quiz_Ratio'] = df['Homework'] / df['Quizzes']"
   ]
  },
  {
   "cell_type": "markdown",
   "id": "424f2937",
   "metadata": {
    "id": "424f2937"
   },
   "source": [
    "### Basic exploration"
   ]
  },
  {
   "cell_type": "code",
   "execution_count": 9,
   "id": "80c9b033",
   "metadata": {
    "cellView": "form",
    "colab": {
     "base_uri": "https://localhost:8080/"
    },
    "executionInfo": {
     "elapsed": 147,
     "status": "ok",
     "timestamp": 1695852855114,
     "user": {
      "displayName": "Glenn",
      "userId": "10553525024667050874"
     },
     "user_tz": 420
    },
    "id": "80c9b033",
    "outputId": "020d6261-20c7-4717-bc0b-1659be5f1e23",
    "ExecuteTime": {
     "end_time": "2023-10-03T23:18:15.098325Z",
     "start_time": "2023-10-03T23:18:15.044396Z"
    }
   },
   "outputs": [
    {
     "name": "stdout",
     "output_type": "stream",
     "text": [
      "<class 'pandas.core.frame.DataFrame'>\n",
      "RangeIndex: 38 entries, 0 to 37\n",
      "Data columns (total 8 columns):\n",
      " #   Column              Non-Null Count  Dtype  \n",
      "---  ------              --------------  -----  \n",
      " 0   Number_days_missed  38 non-null     int64  \n",
      " 1   Number_hw_missed    38 non-null     int64  \n",
      " 2   Homework            38 non-null     int64  \n",
      " 3   Quizzes             38 non-null     int64  \n",
      " 4   Projects            38 non-null     int64  \n",
      " 5   Final               38 non-null     int64  \n",
      " 6   Total               38 non-null     int64  \n",
      " 7   HW_Quiz_Ratio       38 non-null     float64\n",
      "dtypes: float64(1), int64(7)\n",
      "memory usage: 2.5 KB\n"
     ]
    }
   ],
   "source": [
    "df.info()"
   ]
  },
  {
   "cell_type": "code",
   "execution_count": 10,
   "id": "622ed930",
   "metadata": {
    "cellView": "form",
    "colab": {
     "base_uri": "https://localhost:8080/",
     "height": 300
    },
    "executionInfo": {
     "elapsed": 178,
     "status": "ok",
     "timestamp": 1695852859491,
     "user": {
      "displayName": "Glenn",
      "userId": "10553525024667050874"
     },
     "user_tz": 420
    },
    "id": "622ed930",
    "outputId": "bcead2d7-adef-461d-87a8-e2e94deb8f98",
    "ExecuteTime": {
     "end_time": "2023-10-03T23:18:15.729524Z",
     "start_time": "2023-10-03T23:18:15.631128Z"
    }
   },
   "outputs": [
    {
     "data": {
      "text/plain": "       Number_days_missed  Number_hw_missed    Homework    Quizzes   Projects  \\\ncount           38.000000         38.000000   38.000000  38.000000  38.000000   \nmean             1.710526          2.236842   82.105263  74.000000  81.947368   \nstd              1.829309          2.341566   16.859979  12.642699  11.608355   \nmin              0.000000          0.000000   42.000000  48.000000  35.000000   \n25%              0.000000          0.250000   69.250000  70.000000  77.250000   \n50%              1.000000          1.500000   85.000000  73.500000  83.500000   \n75%              3.000000          3.750000   96.000000  80.750000  89.000000   \nmax              7.000000         10.000000  103.000000  99.000000  96.000000   \n\n           Final      Total  HW_Quiz_Ratio  \ncount  38.000000  38.000000      38.000000  \nmean   83.342105  82.578947       1.124710  \nstd    11.060708   9.350911       0.240406  \nmin    56.000000  58.000000       0.736842  \n25%    77.250000  76.000000       0.937859  \n50%    83.500000  85.000000       1.103943  \n75%    92.000000  89.000000       1.320900  \nmax    99.000000  99.000000       1.645833  ",
      "text/html": "<div>\n<style scoped>\n    .dataframe tbody tr th:only-of-type {\n        vertical-align: middle;\n    }\n\n    .dataframe tbody tr th {\n        vertical-align: top;\n    }\n\n    .dataframe thead th {\n        text-align: right;\n    }\n</style>\n<table border=\"1\" class=\"dataframe\">\n  <thead>\n    <tr style=\"text-align: right;\">\n      <th></th>\n      <th>Number_days_missed</th>\n      <th>Number_hw_missed</th>\n      <th>Homework</th>\n      <th>Quizzes</th>\n      <th>Projects</th>\n      <th>Final</th>\n      <th>Total</th>\n      <th>HW_Quiz_Ratio</th>\n    </tr>\n  </thead>\n  <tbody>\n    <tr>\n      <th>count</th>\n      <td>38.000000</td>\n      <td>38.000000</td>\n      <td>38.000000</td>\n      <td>38.000000</td>\n      <td>38.000000</td>\n      <td>38.000000</td>\n      <td>38.000000</td>\n      <td>38.000000</td>\n    </tr>\n    <tr>\n      <th>mean</th>\n      <td>1.710526</td>\n      <td>2.236842</td>\n      <td>82.105263</td>\n      <td>74.000000</td>\n      <td>81.947368</td>\n      <td>83.342105</td>\n      <td>82.578947</td>\n      <td>1.124710</td>\n    </tr>\n    <tr>\n      <th>std</th>\n      <td>1.829309</td>\n      <td>2.341566</td>\n      <td>16.859979</td>\n      <td>12.642699</td>\n      <td>11.608355</td>\n      <td>11.060708</td>\n      <td>9.350911</td>\n      <td>0.240406</td>\n    </tr>\n    <tr>\n      <th>min</th>\n      <td>0.000000</td>\n      <td>0.000000</td>\n      <td>42.000000</td>\n      <td>48.000000</td>\n      <td>35.000000</td>\n      <td>56.000000</td>\n      <td>58.000000</td>\n      <td>0.736842</td>\n    </tr>\n    <tr>\n      <th>25%</th>\n      <td>0.000000</td>\n      <td>0.250000</td>\n      <td>69.250000</td>\n      <td>70.000000</td>\n      <td>77.250000</td>\n      <td>77.250000</td>\n      <td>76.000000</td>\n      <td>0.937859</td>\n    </tr>\n    <tr>\n      <th>50%</th>\n      <td>1.000000</td>\n      <td>1.500000</td>\n      <td>85.000000</td>\n      <td>73.500000</td>\n      <td>83.500000</td>\n      <td>83.500000</td>\n      <td>85.000000</td>\n      <td>1.103943</td>\n    </tr>\n    <tr>\n      <th>75%</th>\n      <td>3.000000</td>\n      <td>3.750000</td>\n      <td>96.000000</td>\n      <td>80.750000</td>\n      <td>89.000000</td>\n      <td>92.000000</td>\n      <td>89.000000</td>\n      <td>1.320900</td>\n    </tr>\n    <tr>\n      <th>max</th>\n      <td>7.000000</td>\n      <td>10.000000</td>\n      <td>103.000000</td>\n      <td>99.000000</td>\n      <td>96.000000</td>\n      <td>99.000000</td>\n      <td>99.000000</td>\n      <td>1.645833</td>\n    </tr>\n  </tbody>\n</table>\n</div>"
     },
     "execution_count": 10,
     "metadata": {},
     "output_type": "execute_result"
    }
   ],
   "source": [
    "df.describe()"
   ]
  },
  {
   "cell_type": "markdown",
   "id": "IKghFpzJtVFp",
   "metadata": {
    "id": "IKghFpzJtVFp"
   },
   "source": [
    "We see that the median total course score in this semester was 85, and the mean was 82.6.\n",
    "\n",
    "The average value of homework/quiz ratio was about 1.1, meaning most students did a little better on homework assignments than quizzes.  The homework/quiz ratio values range from about 0.74 to about 1.65."
   ]
  },
  {
   "cell_type": "markdown",
   "id": "c9a68b9b",
   "metadata": {
    "id": "c9a68b9b"
   },
   "source": [
    "#### Problem 1\n",
    "\n",
    "What is the distribution of course scores?\n",
    "\n",
    "Create a histogram of variable Total, which is the score for the class.\n",
    "\n",
    "Be sure to include a sensible title and x axis label.  (For histograms a custom y axis label is not needed, because it will always be counts.)\n",
    "\n",
    "I like to start the title with a capital letter, but to use all lower-case letters in my axis labels.  You can start the axis labels with capital letters if you prefer.\n",
    "\n",
    "Create your plot using Pandas."
   ]
  },
  {
   "cell_type": "code",
   "execution_count": 11,
   "id": "ed68612a",
   "metadata": {
    "cellView": "form",
    "colab": {
     "base_uri": "https://localhost:8080/",
     "height": 301
    },
    "executionInfo": {
     "elapsed": 1048,
     "status": "ok",
     "timestamp": 1665190441530,
     "user": {
      "displayName": "Glenn",
      "userId": "10553525024667050874"
     },
     "user_tz": 420
    },
    "id": "ed68612a",
    "outputId": "c98f8bfe-63d9-4b19-c454-a31a7d692082",
    "ExecuteTime": {
     "end_time": "2023-10-03T23:18:18.281866Z",
     "start_time": "2023-10-03T23:18:17.978995Z"
    }
   },
   "outputs": [
    {
     "data": {
      "text/plain": "<Figure size 500x300 with 1 Axes>",
      "image/png": "[encoded data removed]"
     },
     "metadata": {},
     "output_type": "display_data"
    }
   ],
   "source": [
    "df['Total'].plot.hist()\n",
    "plt.xlabel('Scores')\n",
    "plt.title(\"Distribution of Student Test Scores\");"
   ]
  },
  {
   "cell_type": "markdown",
   "id": "JLperZNYt-9N",
   "metadata": {
    "id": "JLperZNYt-9N"
   },
   "source": [
    "The histogram appears to show a large group of students that got a course score of about 85 to 90, and another group of students with scores between about 60 and 80."
   ]
  },
  {
   "cell_type": "markdown",
   "id": "1d630c33",
   "metadata": {
    "id": "1d630c33"
   },
   "source": [
    "#### Problem 2\n",
    "\n",
    "How does the distribution of course scores appear if we use a density plot?\n",
    "\n",
    "Create a density plot of variable Total. A density plot is like a smoothed histogram.\n",
    "\n",
    "Be sure to include a sensible title and x axis label.  (For density plots a custom y axis label is not needed, because it will always be counts.)\n",
    "\n",
    "Create your plot using Pandas, using plot.density()."
   ]
  },
  {
   "cell_type": "code",
   "execution_count": 12,
   "id": "aa2c4ce3",
   "metadata": {
    "cellView": "form",
    "colab": {
     "base_uri": "https://localhost:8080/",
     "height": 301
    },
    "executionInfo": {
     "elapsed": 744,
     "status": "ok",
     "timestamp": 1665190442271,
     "user": {
      "displayName": "Glenn",
      "userId": "10553525024667050874"
     },
     "user_tz": 420
    },
    "id": "aa2c4ce3",
    "outputId": "e8495a18-d076-436c-c5b9-1a6d049a5e4a",
    "ExecuteTime": {
     "end_time": "2023-10-03T23:18:20.427380Z",
     "start_time": "2023-10-03T23:18:20.267961Z"
    }
   },
   "outputs": [
    {
     "data": {
      "text/plain": "<Figure size 500x300 with 1 Axes>",
      "image/png": "[encoded data removed]"
     },
     "metadata": {},
     "output_type": "display_data"
    }
   ],
   "source": [
    "df['Total'].plot.density(xlabel='Scores', title='Density Plot of Student Scores');"
   ]
  },
  {
   "cell_type": "markdown",
   "id": "oja3ZpZvuUjq",
   "metadata": {
    "id": "oja3ZpZvuUjq"
   },
   "source": [
    "The left of the two bumps in the histogram is not really apparent in the density plot."
   ]
  },
  {
   "cell_type": "markdown",
   "id": "gmWCnf5FvWAd",
   "metadata": {
    "id": "gmWCnf5FvWAd"
   },
   "source": []
  },
  {
   "cell_type": "markdown",
   "id": "9018efd8",
   "metadata": {
    "id": "9018efd8"
   },
   "source": [
    "#### Problem 3\n",
    "\n",
    "The ratio of homework scores to quiz scores is interesting, because if a student diligently works on homework assignments, you'd expect that student to do well on quizzes.\n",
    "\n",
    "Produce a histogram of the homework/quiz ratio values."
   ]
  },
  {
   "cell_type": "code",
   "execution_count": 13,
   "id": "Bc2ORCokv0rH",
   "metadata": {
    "colab": {
     "base_uri": "https://localhost:8080/",
     "height": 342
    },
    "executionInfo": {
     "elapsed": 607,
     "status": "ok",
     "timestamp": 1695853587606,
     "user": {
      "displayName": "Glenn",
      "userId": "10553525024667050874"
     },
     "user_tz": 420
    },
    "id": "Bc2ORCokv0rH",
    "outputId": "c34a888d-28ce-4036-f8a3-1a5b76b4bfe2",
    "ExecuteTime": {
     "end_time": "2023-10-03T23:18:23.269915Z",
     "start_time": "2023-10-03T23:18:23.159487Z"
    }
   },
   "outputs": [
    {
     "data": {
      "text/plain": "<Figure size 500x300 with 1 Axes>",
      "image/png": "[encoded data removed]"
     },
     "metadata": {},
     "output_type": "display_data"
    }
   ],
   "source": [
    "df['HW_Quiz_Ratio'].plot.hist(xlabel='Ratio Values', title='Histogram of Homework and Quiz Ratio Values');"
   ]
  },
  {
   "cell_type": "markdown",
   "id": "PRRD-kCZwH0s",
   "metadata": {
    "id": "PRRD-kCZwH0s"
   },
   "source": [
    "It is much more common for homework scores to be higher than quiz scores than vice versa.  "
   ]
  },
  {
   "cell_type": "markdown",
   "id": "f9f50376",
   "metadata": {
    "id": "9018efd8"
   },
   "source": [
    "#### Problem 4\n",
    "\n",
    "We can give a brief summary of the distribution of *all* the quantitative variables with a Pandas multi-box plot.\n",
    "\n",
    "However, this style plot only works well when all the variables have about the same range.\n",
    "\n",
    "Create a Pandas multi-box plot showing a box plot for each variable in df_cont."
   ]
  },
  {
   "cell_type": "code",
   "execution_count": 14,
   "id": "5456e9a4",
   "metadata": {
    "cellView": "form",
    "colab": {
     "base_uri": "https://localhost:8080/",
     "height": 301
    },
    "executionInfo": {
     "elapsed": 744,
     "status": "ok",
     "timestamp": 1665190442271,
     "user": {
      "displayName": "Glenn",
      "userId": "10553525024667050874"
     },
     "user_tz": 420
    },
    "id": "5456e9a4",
    "outputId": "e8495a18-d076-436c-c5b9-1a6d049a5e4a",
    "ExecuteTime": {
     "end_time": "2023-10-03T23:18:25.497726Z",
     "start_time": "2023-10-03T23:18:25.414938Z"
    }
   },
   "outputs": [
    {
     "data": {
      "text/plain": "<Figure size 500x300 with 1 Axes>",
      "image/png": "[encoded data removed]"
     },
     "metadata": {},
     "output_type": "display_data"
    }
   ],
   "source": [
    "df_cont.boxplot();"
   ]
  },
  {
   "cell_type": "markdown",
   "id": "60e996be",
   "metadata": {
    "id": "60e996be"
   },
   "source": [
    "This is interesting; we see that quiz scores were lower, on average, than homework and project scores.  Also, the course total score is higher than most of the component scores.  That is probably because there are other components of the total score, like the learning logs.\n",
    "\n",
    "Also, we see lots of outliers in the quiz scores."
   ]
  },
  {
   "cell_type": "markdown",
   "id": "3Y5Zdf5AunfO",
   "metadata": {
    "id": "3Y5Zdf5AunfO"
   },
   "source": [
    "So far we've only looked at the continuous variables in the data set.  Let's now look at the discrete variables."
   ]
  },
  {
   "cell_type": "markdown",
   "id": "231a8d0a",
   "metadata": {
    "id": "231a8d0a"
   },
   "source": [
    "#### Problem 5\n",
    "\n",
    "Did students tend to miss a lot of days of class?\n",
    "\n",
    "Use a bar plot to plot the number of occurrences of each value of Number_days_missed in the dataset.\n",
    "\n",
    "Use value_counts() to get the number of occurences.\n",
    "\n",
    "The bars should appear in order of number of absences.  To do this, you can sort the result of value_counts().  There are two main Pandas methods for sorting a series: .sort_values() and .sort_index()."
   ]
  },
  {
   "cell_type": "code",
   "execution_count": 15,
   "id": "60fa21fc",
   "metadata": {
    "cellView": "form",
    "colab": {
     "base_uri": "https://localhost:8080/",
     "height": 298
    },
    "executionInfo": {
     "elapsed": 668,
     "status": "ok",
     "timestamp": 1665190442929,
     "user": {
      "displayName": "Glenn",
      "userId": "10553525024667050874"
     },
     "user_tz": 420
    },
    "id": "60fa21fc",
    "outputId": "ef85f01c-7cb8-45d8-945e-c4fece9a75f0",
    "ExecuteTime": {
     "end_time": "2023-10-03T23:18:28.002341Z",
     "start_time": "2023-10-03T23:18:27.897633Z"
    }
   },
   "outputs": [
    {
     "data": {
      "text/plain": "<Axes: xlabel='Number_days_missed'>"
     },
     "execution_count": 15,
     "metadata": {},
     "output_type": "execute_result"
    },
    {
     "data": {
      "text/plain": "<Figure size 500x300 with 1 Axes>",
      "image/png": "[encoded data removed]"
     },
     "metadata": {},
     "output_type": "display_data"
    }
   ],
   "source": [
    "df['Number_days_missed'].value_counts().plot.bar()"
   ]
  },
  {
   "cell_type": "markdown",
   "id": "3a8c7395",
   "metadata": {
    "id": "3a8c7395"
   },
   "source": [
    "#### Problem 6\n",
    "\n",
    "What are the probabilities for each number of absences?\n",
    "\n",
    "Create a probability mass function (PMF) plot for variable Number_days_missed, where the probabilities are estimated from the data.  Use a bar plot.\n",
    "\n",
    "As in the last problem, the number of absences should increase on the x axis.\n",
    "\n",
    "You will again use value_counts(), but use the 'normalize' parameter."
   ]
  },
  {
   "cell_type": "code",
   "execution_count": 16,
   "id": "e0e59f3d",
   "metadata": {
    "cellView": "form",
    "colab": {
     "base_uri": "https://localhost:8080/",
     "height": 298
    },
    "executionInfo": {
     "elapsed": 460,
     "status": "ok",
     "timestamp": 1665190443379,
     "user": {
      "displayName": "Glenn",
      "userId": "10553525024667050874"
     },
     "user_tz": 420
    },
    "id": "e0e59f3d",
    "outputId": "b1e39e1e-3b46-40da-b0ad-f7b3920892db",
    "ExecuteTime": {
     "end_time": "2023-10-03T23:18:29.657038Z",
     "start_time": "2023-10-03T23:18:29.550435Z"
    }
   },
   "outputs": [
    {
     "data": {
      "text/plain": "<Axes: xlabel='Number_days_missed'>"
     },
     "execution_count": 16,
     "metadata": {},
     "output_type": "execute_result"
    },
    {
     "data": {
      "text/plain": "<Figure size 500x300 with 1 Axes>",
      "image/png": "[encoded data removed]"
     },
     "metadata": {},
     "output_type": "display_data"
    }
   ],
   "source": [
    "df['Number_days_missed'].value_counts(normalize=True).plot.bar()"
   ]
  },
  {
   "cell_type": "markdown",
   "id": "9a274277",
   "metadata": {
    "id": "9a274277"
   },
   "source": [
    "#### Problem 7\n",
    "\n",
    "What is the probability of 4 absences or less?  It will be easy to see if we plot the cumulative distribution function (CDF).\n",
    "\n",
    "Repeat the previous problem, but this time plot the CDF.\n",
    "\n",
    "Don't forget function cumsum()."
   ]
  },
  {
   "cell_type": "code",
   "execution_count": 17,
   "id": "c23ca337",
   "metadata": {
    "cellView": "form",
    "colab": {
     "base_uri": "https://localhost:8080/",
     "height": 298
    },
    "executionInfo": {
     "elapsed": 498,
     "status": "ok",
     "timestamp": 1665190443875,
     "user": {
      "displayName": "Glenn",
      "userId": "10553525024667050874"
     },
     "user_tz": 420
    },
    "id": "c23ca337",
    "outputId": "93658ed0-6b59-4b18-8caa-886e0a0be931",
    "ExecuteTime": {
     "end_time": "2023-10-03T23:18:30.727816Z",
     "start_time": "2023-10-03T23:18:30.638126Z"
    }
   },
   "outputs": [
    {
     "data": {
      "text/plain": "<Figure size 500x300 with 1 Axes>",
      "image/png": "[encoded data removed]"
     },
     "metadata": {},
     "output_type": "display_data"
    }
   ],
   "source": [
    "sns.kdeplot(data=df[\"Number_days_missed\"], cumulative=True);"
   ]
  },
  {
   "cell_type": "markdown",
   "id": "e96bc568",
   "metadata": {
    "id": "e96bc568"
   },
   "source": [
    "#### Problem 8\n",
    "\n",
    "What is the probability of missing a certain number of homework assignments?\n",
    "\n",
    "Create a PMF plot for variable Number_missing_hw.\n",
    "\n",
    "The number of missing HW assignments should increase on the x axis."
   ]
  },
  {
   "cell_type": "code",
   "execution_count": 18,
   "id": "f9fbf51d",
   "metadata": {
    "cellView": "form",
    "colab": {
     "base_uri": "https://localhost:8080/",
     "height": 305
    },
    "executionInfo": {
     "elapsed": 842,
     "status": "ok",
     "timestamp": 1665190444716,
     "user": {
      "displayName": "Glenn",
      "userId": "10553525024667050874"
     },
     "user_tz": 420
    },
    "id": "f9fbf51d",
    "outputId": "226655e3-d9e7-488f-9db0-f4cf68d47853",
    "ExecuteTime": {
     "end_time": "2023-10-03T23:18:32.028133Z",
     "start_time": "2023-10-03T23:18:31.925289Z"
    }
   },
   "outputs": [
    {
     "data": {
      "text/plain": "<Figure size 500x300 with 1 Axes>",
      "image/png": "[encoded data removed]"
     },
     "metadata": {},
     "output_type": "display_data"
    }
   ],
   "source": [
    "df['Number_hw_missed'].value_counts(normalize=True).plot.bar();"
   ]
  },
  {
   "cell_type": "markdown",
   "id": "cfceH8xYu_i9",
   "metadata": {
    "id": "cfceH8xYu_i9"
   },
   "source": [
    "We've looked at all of the variables in the data set individually.  Let's now look at how the continuous variables like Homework and Quizzes related to each other."
   ]
  },
  {
   "cell_type": "markdown",
   "id": "ceabb118",
   "metadata": {
    "id": "ceabb118"
   },
   "source": [
    "#### Problem 9\n",
    "\n",
    "How do homework scores relate to quiz scores?\n",
    "\n",
    "Create a scatterplot with Homework on the x-axis and Quizzes on the y-axis."
   ]
  },
  {
   "cell_type": "code",
   "execution_count": 19,
   "id": "5f7e3021",
   "metadata": {
    "id": "5f7e3021",
    "outputId": "704d4e9d-d3ea-4e3c-f039-656e343343aa",
    "ExecuteTime": {
     "end_time": "2023-10-03T23:18:34.037691Z",
     "start_time": "2023-10-03T23:18:33.955220Z"
    }
   },
   "outputs": [
    {
     "data": {
      "text/plain": "<Axes: xlabel='Homework', ylabel='Quizzes'>"
     },
     "execution_count": 19,
     "metadata": {},
     "output_type": "execute_result"
    },
    {
     "data": {
      "text/plain": "<Figure size 500x300 with 1 Axes>",
      "image/png": "[encoded data removed]"
     },
     "metadata": {},
     "output_type": "display_data"
    }
   ],
   "source": [
    "df.plot.scatter(x='Homework', y='Quizzes', c='orange')"
   ]
  },
  {
   "cell_type": "markdown",
   "id": "005fe0e9",
   "metadata": {
    "id": "005fe0e9"
   },
   "source": [
    "Not surprisingly, higher homework scores are associated with higher quiz scores."
   ]
  },
  {
   "cell_type": "markdown",
   "id": "f4e8e79b",
   "metadata": {
    "id": "f4e8e79b"
   },
   "source": [
    "#### Problem 10\n",
    "\n",
    "How do project scores relate to quiz scores?"
   ]
  },
  {
   "cell_type": "code",
   "execution_count": 20,
   "id": "ee324a7b",
   "metadata": {
    "id": "ee324a7b",
    "outputId": "cf6eeee4-c01e-4991-c538-e939dcceaae6",
    "ExecuteTime": {
     "end_time": "2023-10-03T23:18:36.394134Z",
     "start_time": "2023-10-03T23:18:36.306455Z"
    }
   },
   "outputs": [
    {
     "data": {
      "text/plain": "<Figure size 500x300 with 1 Axes>",
      "image/png": "[encoded data removed]"
     },
     "metadata": {},
     "output_type": "display_data"
    }
   ],
   "source": [
    "df.plot.scatter(x='Projects', y='Quizzes', c='orange');"
   ]
  },
  {
   "cell_type": "markdown",
   "id": "ed507b8a",
   "metadata": {
    "id": "ed507b8a"
   },
   "source": [
    "Higher project scores are also associated with higher quiz scores.  The scatterplot also shows an interesting outlier: a very low project score."
   ]
  },
  {
   "cell_type": "markdown",
   "id": "0yFVV7HbwfTr",
   "metadata": {
    "id": "0yFVV7HbwfTr"
   },
   "source": [
    "#### Problem 11\n",
    "\n",
    "How does homework/quiz ratio relate to total course score?  \n",
    "\n",
    "Create a scatter plot with homework/quiz ratio on the x axis and total course score on the y axis."
   ]
  },
  {
   "cell_type": "code",
   "execution_count": 21,
   "id": "rTVcVVxqwvhr",
   "metadata": {
    "colab": {
     "base_uri": "https://localhost:8080/",
     "height": 320
    },
    "executionInfo": {
     "elapsed": 735,
     "status": "ok",
     "timestamp": 1695853794316,
     "user": {
      "displayName": "Glenn",
      "userId": "10553525024667050874"
     },
     "user_tz": 420
    },
    "id": "rTVcVVxqwvhr",
    "outputId": "b63714c0-7639-4231-a8df-e71aa5454ccc",
    "ExecuteTime": {
     "end_time": "2023-10-03T23:18:40.485035Z",
     "start_time": "2023-10-03T23:18:40.375570Z"
    }
   },
   "outputs": [
    {
     "data": {
      "text/plain": "<Figure size 500x300 with 1 Axes>",
      "image/png": "[encoded data removed]"
     },
     "metadata": {},
     "output_type": "display_data"
    }
   ],
   "source": [
    "df.plot.scatter(x='HW_Quiz_Ratio', y='Final', c='orange');"
   ]
  },
  {
   "cell_type": "markdown",
   "id": "qvuAjvmyw8Ic",
   "metadata": {
    "id": "qvuAjvmyw8Ic"
   },
   "source": []
  },
  {
   "cell_type": "markdown",
   "id": "G39TwAsDxNTV",
   "metadata": {
    "id": "G39TwAsDxNTV"
   },
   "source": [
    "#### Problem 12\n",
    "\n",
    "It's hard to tell if there is a relationship between HW/Quiz ratio and total course score.  It looks like both low and high values of hw/quiz ratio ae associate with somewhat lower grades.\n",
    "\n",
    "Students with the highest total scores tended to have HW/quiz ratios close to 1.\n",
    "\n",
    "It's very interesting that students who did better on quizzes than on homework tended to have lower total scores.  Perhaps these students had low homework scores, as opposed to high quiz scores.\n",
    "\n",
    "Create another scatterplot, like the previous one, but this time include a regression line."
   ]
  },
  {
   "cell_type": "code",
   "execution_count": 22,
   "id": "3ihSn4G7xg8_",
   "metadata": {
    "colab": {
     "base_uri": "https://localhost:8080/",
     "height": 320
    },
    "executionInfo": {
     "elapsed": 935,
     "status": "ok",
     "timestamp": 1695854013273,
     "user": {
      "displayName": "Glenn",
      "userId": "10553525024667050874"
     },
     "user_tz": 420
    },
    "id": "3ihSn4G7xg8_",
    "outputId": "bf674444-fecd-4550-96c4-8c2db7f07088",
    "scrolled": true,
    "ExecuteTime": {
     "end_time": "2023-10-03T23:18:43.191468Z",
     "start_time": "2023-10-03T23:18:43.082960Z"
    }
   },
   "outputs": [
    {
     "data": {
      "text/plain": "<Figure size 500x300 with 1 Axes>",
      "image/png": "[encoded data removed]"
     },
     "metadata": {},
     "output_type": "display_data"
    }
   ],
   "source": [
    "sns.regplot(data=df, x='HW_Quiz_Ratio', y='Final');"
   ]
  },
  {
   "cell_type": "markdown",
   "id": "i7b6jWexxu0E",
   "metadata": {
    "id": "i7b6jWexxu0E"
   },
   "source": [
    "There is no strong linear relationship.  The line angles up slightly, but the shaded area gives an idea of the uncertainty about the line.  The shaded ae is large, so our confidence that the relationship is positive is low."
   ]
  },
  {
   "cell_type": "markdown",
   "id": "aa4273c4",
   "metadata": {
    "id": "G39TwAsDxNTV"
   },
   "source": [
    "#### Problem 13\n",
    "\n",
    "To see relationships between all pairs of continuous variables, create a Seaborn \"pairplot\" using the variables in df_cont.  \n",
    "\n",
    "The size of the pairplot can be controlled using parameter 'height'."
   ]
  },
  {
   "cell_type": "code",
   "execution_count": 24,
   "id": "457915f7",
   "metadata": {
    "id": "dc8e8ee7",
    "outputId": "8e4962aa-f29e-4e0e-a2e9-46a32af80239",
    "ExecuteTime": {
     "end_time": "2023-10-03T23:19:22.739934Z",
     "start_time": "2023-10-03T23:19:20.369140Z"
    }
   },
   "outputs": [
    {
     "name": "stderr",
     "output_type": "stream",
     "text": [
      "/opt/homebrew/anaconda3/envs/Hw_Redo/lib/python3.10/site-packages/seaborn/axisgrid.py:118: UserWarning: The figure layout has changed to tight\n",
      "  self._figure.tight_layout(*args, **kwargs)\n"
     ]
    },
    {
     "data": {
      "text/plain": "<seaborn.axisgrid.PairGrid at 0x13808d840>"
     },
     "execution_count": 24,
     "metadata": {},
     "output_type": "execute_result"
    },
    {
     "data": {
      "text/plain": "<Figure size 1250x1250 with 30 Axes>",
      "image/png": "[encoded data removed]"
     },
     "metadata": {},
     "output_type": "display_data"
    }
   ],
   "source": [
    "sns.pairplot(data=df_cont, height=50)\n"
   ]
  },
  {
   "cell_type": "markdown",
   "id": "1e3c6af8",
   "metadata": {
    "id": "1e3c6af8"
   },
   "source": [
    "#### Problem 14\n",
    "\n",
    "To get a more quantitative feel for the relationships between the continuous variables, output the correlation coefficients between the continuous variables.\n",
    "\n",
    "A print statement is not needed.  In fact, in a Jupyter notebook, the output will look better if a print statement is not used.\n",
    "\n",
    "Use round() to keep only 2 digits to the right of the decimal point."
   ]
  },
  {
   "cell_type": "code",
   "execution_count": 25,
   "id": "b93500cb",
   "metadata": {
    "id": "b93500cb",
    "outputId": "e6285034-fb5a-4b7f-c844-66b0ab0bccf8",
    "ExecuteTime": {
     "end_time": "2023-10-03T23:21:43.397760Z",
     "start_time": "2023-10-03T23:21:43.373446Z"
    }
   },
   "outputs": [
    {
     "data": {
      "text/plain": "          Homework  Quizzes  Projects  Final  Total\nHomework      1.00     0.47      0.33   0.63   0.84\nQuizzes       0.47     1.00      0.34   0.67   0.75\nProjects      0.33     0.34      1.00   0.53   0.65\nFinal         0.63     0.67      0.53   1.00   0.84\nTotal         0.84     0.75      0.65   0.84   1.00",
      "text/html": "<div>\n<style scoped>\n    .dataframe tbody tr th:only-of-type {\n        vertical-align: middle;\n    }\n\n    .dataframe tbody tr th {\n        vertical-align: top;\n    }\n\n    .dataframe thead th {\n        text-align: right;\n    }\n</style>\n<table border=\"1\" class=\"dataframe\">\n  <thead>\n    <tr style=\"text-align: right;\">\n      <th></th>\n      <th>Homework</th>\n      <th>Quizzes</th>\n      <th>Projects</th>\n      <th>Final</th>\n      <th>Total</th>\n    </tr>\n  </thead>\n  <tbody>\n    <tr>\n      <th>Homework</th>\n      <td>1.00</td>\n      <td>0.47</td>\n      <td>0.33</td>\n      <td>0.63</td>\n      <td>0.84</td>\n    </tr>\n    <tr>\n      <th>Quizzes</th>\n      <td>0.47</td>\n      <td>1.00</td>\n      <td>0.34</td>\n      <td>0.67</td>\n      <td>0.75</td>\n    </tr>\n    <tr>\n      <th>Projects</th>\n      <td>0.33</td>\n      <td>0.34</td>\n      <td>1.00</td>\n      <td>0.53</td>\n      <td>0.65</td>\n    </tr>\n    <tr>\n      <th>Final</th>\n      <td>0.63</td>\n      <td>0.67</td>\n      <td>0.53</td>\n      <td>1.00</td>\n      <td>0.84</td>\n    </tr>\n    <tr>\n      <th>Total</th>\n      <td>0.84</td>\n      <td>0.75</td>\n      <td>0.65</td>\n      <td>0.84</td>\n      <td>1.00</td>\n    </tr>\n  </tbody>\n</table>\n</div>"
     },
     "execution_count": 25,
     "metadata": {},
     "output_type": "execute_result"
    }
   ],
   "source": [
    "# YOUR CODE HERE"
   ]
  },
  {
   "cell_type": "markdown",
   "id": "5e47d7ea",
   "metadata": {
    "id": "5e47d7ea"
   },
   "source": [
    "#### Problem 15\n",
    "\n",
    "Plot the correlation coefficients between the quantitative variables.\n",
    "\n",
    "Use the 'jet' color map, and use -1 and 1 as the min and max legend values.\n",
    "\n",
    "Don't use any rounding in this problem."
   ]
  },
  {
   "cell_type": "code",
   "execution_count": 29,
   "id": "7d852f43",
   "metadata": {
    "id": "7d852f43",
    "outputId": "2c6cf169-93aa-49c4-9ec9-71b7fa868393",
    "ExecuteTime": {
     "end_time": "2023-10-03T23:26:17.202504Z",
     "start_time": "2023-10-03T23:26:17.088472Z"
    }
   },
   "outputs": [
    {
     "data": {
      "text/plain": "Text(0.5, 1.0, 'Correlation Coefficients')"
     },
     "execution_count": 29,
     "metadata": {},
     "output_type": "execute_result"
    },
    {
     "data": {
      "text/plain": "<Figure size 500x300 with 2 Axes>",
      "image/png": "[encoded data removed]"
     },
     "metadata": {},
     "output_type": "display_data"
    }
   ],
   "source": [
    "# YOUR CODE HERE"
   ]
  },
  {
   "cell_type": "markdown",
   "id": "d29f0dbf",
   "metadata": {
    "id": "d29f0dbf"
   },
   "source": [
    "Excluding the total score, we see that the final and quiz scores are strongly positively correlated.  The weakest correlation shown is between project scores and homework or quiz scores."
   ]
  },
  {
   "cell_type": "markdown",
   "id": "81e1d73d",
   "metadata": {
    "id": "81e1d73d"
   },
   "source": [
    "### Basic statistics"
   ]
  },
  {
   "cell_type": "markdown",
   "id": "154bd24d",
   "metadata": {
    "id": "154bd24d"
   },
   "source": [
    "#### Problem 16\n",
    "\n",
    "What is the average total class score?\n",
    "\n",
    "Write code to compute the mean value from the data and print it.\n",
    "\n",
    "Print using 1 digit to the right of the decimal point.  Use an f-string for the formatting."
   ]
  },
  {
   "cell_type": "code",
   "execution_count": 33,
   "id": "3f82f53f",
   "metadata": {
    "cellView": "form",
    "colab": {
     "base_uri": "https://localhost:8080/"
    },
    "executionInfo": {
     "elapsed": 16,
     "status": "ok",
     "timestamp": 1665190444716,
     "user": {
      "displayName": "Glenn",
      "userId": "10553525024667050874"
     },
     "user_tz": 420
    },
    "id": "3f82f53f",
    "outputId": "ce2b04e0-d7e9-4744-d8db-b4ad81b25a61",
    "ExecuteTime": {
     "end_time": "2023-10-03T23:31:12.721954Z",
     "start_time": "2023-10-03T23:31:12.695827Z"
    }
   },
   "outputs": [
    {
     "name": "stdout",
     "output_type": "stream",
     "text": [
      "82.6\n"
     ]
    }
   ],
   "source": [
    "# YOUR CODE HERE"
   ]
  },
  {
   "cell_type": "markdown",
   "id": "4db118da",
   "metadata": {
    "id": "4db118da"
   },
   "source": [
    "#### Problem 17\n",
    "\n",
    "What is the median class score?  Is it very different from the mean?\n",
    "\n",
    "Repeat the previous problem, but with the median."
   ]
  },
  {
   "cell_type": "code",
   "execution_count": 34,
   "id": "752853f1",
   "metadata": {
    "cellView": "form",
    "colab": {
     "base_uri": "https://localhost:8080/"
    },
    "executionInfo": {
     "elapsed": 14,
     "status": "ok",
     "timestamp": 1665190444716,
     "user": {
      "displayName": "Glenn",
      "userId": "10553525024667050874"
     },
     "user_tz": 420
    },
    "id": "752853f1",
    "outputId": "7b157eed-d0d7-4d5d-dd0f-e652346492ed",
    "ExecuteTime": {
     "end_time": "2023-10-03T23:31:17.150400Z",
     "start_time": "2023-10-03T23:31:17.118262Z"
    }
   },
   "outputs": [
    {
     "name": "stdout",
     "output_type": "stream",
     "text": [
      "85.0\n"
     ]
    }
   ],
   "source": [
    "# YOUR CODE HERE"
   ]
  },
  {
   "cell_type": "markdown",
   "id": "30883131",
   "metadata": {
    "id": "30883131"
   },
   "source": [
    "#### Problem 18\n",
    "\n",
    "What is the standard deviation of the class score?\n",
    "\n",
    "Repeat the previous problem, but with standard deviation.  Print two digits to the right of the decimal point in this problem, again using an f-string."
   ]
  },
  {
   "cell_type": "code",
   "execution_count": 36,
   "id": "a1720056",
   "metadata": {
    "cellView": "form",
    "colab": {
     "base_uri": "https://localhost:8080/"
    },
    "executionInfo": {
     "elapsed": 12,
     "status": "ok",
     "timestamp": 1665190444717,
     "user": {
      "displayName": "Glenn",
      "userId": "10553525024667050874"
     },
     "user_tz": 420
    },
    "id": "a1720056",
    "outputId": "59188f7f-c621-479c-d25c-d13ddb0a328a",
    "ExecuteTime": {
     "end_time": "2023-10-03T23:31:45.677182Z",
     "start_time": "2023-10-03T23:31:45.671732Z"
    }
   },
   "outputs": [
    {
     "name": "stdout",
     "output_type": "stream",
     "text": [
      "9.35\n"
     ]
    }
   ],
   "source": [
    "# YOUR CODE HERE"
   ]
  },
  {
   "cell_type": "markdown",
   "id": "aace73a6",
   "metadata": {
    "id": "aace73a6"
   },
   "source": [
    "#### Problem 19\n",
    "\n",
    "Are the course total scores more spread out than the course project scores?\n",
    "\n",
    "Repeat the previous problem, but with total project score instead of total course score.  Using an f-string, print the result with 3 significant digits."
   ]
  },
  {
   "cell_type": "code",
   "execution_count": 37,
   "id": "6ebd3748",
   "metadata": {
    "cellView": "form",
    "colab": {
     "base_uri": "https://localhost:8080/"
    },
    "executionInfo": {
     "elapsed": 10,
     "status": "ok",
     "timestamp": 1665190444717,
     "user": {
      "displayName": "Glenn",
      "userId": "10553525024667050874"
     },
     "user_tz": 420
    },
    "id": "6ebd3748",
    "outputId": "a2157c42-ee4e-4cd9-a027-4415bfd7fa59",
    "ExecuteTime": {
     "end_time": "2023-10-03T23:34:37.972842Z",
     "start_time": "2023-10-03T23:34:37.960634Z"
    }
   },
   "outputs": [
    {
     "name": "stdout",
     "output_type": "stream",
     "text": [
      "11.608\n"
     ]
    }
   ],
   "source": [
    "# YOUR CODE HERE"
   ]
  },
  {
   "cell_type": "markdown",
   "id": "093f3113",
   "metadata": {
    "id": "093f3113"
   },
   "source": [
    "#### Problem 20\n",
    "\n",
    "How do the standard deviations for all course projects and assignments compare?\n",
    "\n",
    "We can see this with the output of .describe(), but I want you to compute it using simple aggregation and then plot the values with a bar plot.\n",
    "\n",
    "Plot the standard deviation for all columns of df_cont.  List the components in the same order as they appear in dataframe df."
   ]
  },
  {
   "cell_type": "code",
   "execution_count": null,
   "id": "fcea0fde",
   "metadata": {
    "cellView": "form",
    "colab": {
     "base_uri": "https://localhost:8080/"
    },
    "executionInfo": {
     "elapsed": 8,
     "status": "ok",
     "timestamp": 1665190444717,
     "user": {
      "displayName": "Glenn",
      "userId": "10553525024667050874"
     },
     "user_tz": 420
    },
    "id": "fcea0fde",
    "outputId": "cfa6a494-1f3b-49f8-e1be-d45506ffcd4b"
   },
   "outputs": [],
   "source": [
    "# YOUR CODE HERE"
   ]
  },
  {
   "cell_type": "markdown",
   "id": "05c321bc",
   "metadata": {},
   "source": [
    "It is interesting that homework values vary much more than total course scores.  Perhaps this is because everyone finishes quizzes and the final, but not everyone finishes homework assignments."
   ]
  },
  {
   "cell_type": "markdown",
   "id": "4c110877",
   "metadata": {
    "id": "4c110877"
   },
   "source": [
    "### Estimated probabilities"
   ]
  },
  {
   "cell_type": "markdown",
   "id": "e6e648dd",
   "metadata": {
    "id": "e6e648dd"
   },
   "source": [
    "#### Problem 21\n",
    "\n",
    "What's the probability of passing?  In other words, of having a course total >= 70.\n",
    "\n",
    "Estimate P(Total >= 70) from the data and print it.  It's a marginal probability.  Remember, all probability values are between 0 and 1.  Format with three significant digit using an f-string when printing."
   ]
  },
  {
   "cell_type": "code",
   "execution_count": null,
   "id": "6b3eca2a",
   "metadata": {
    "cellView": "form",
    "colab": {
     "base_uri": "https://localhost:8080/"
    },
    "executionInfo": {
     "elapsed": 251,
     "status": "ok",
     "timestamp": 1665190444962,
     "user": {
      "displayName": "Glenn",
      "userId": "10553525024667050874"
     },
     "user_tz": 420
    },
    "id": "6b3eca2a",
    "outputId": "407abb62-76fd-49ae-92d6-26aca4a1d8fc"
   },
   "outputs": [],
   "source": [
    "# YOUR CODE HERE"
   ]
  },
  {
   "cell_type": "markdown",
   "id": "0d39c057",
   "metadata": {
    "id": "0d39c057"
   },
   "source": [
    "#### Problem 22\n",
    "\n",
    "What's the probability of getting an A?  In other words, of having a course total of at least 90.\n",
    "\n",
    "Repeat the previous problem but using 90 instead of 70."
   ]
  },
  {
   "cell_type": "code",
   "execution_count": null,
   "id": "ce314f01",
   "metadata": {
    "cellView": "form",
    "colab": {
     "base_uri": "https://localhost:8080/"
    },
    "executionInfo": {
     "elapsed": 42,
     "status": "ok",
     "timestamp": 1665190444963,
     "user": {
      "displayName": "Glenn",
      "userId": "10553525024667050874"
     },
     "user_tz": 420
    },
    "id": "ce314f01",
    "outputId": "d508e4cb-cfbc-47f9-e20b-8ef82925a986"
   },
   "outputs": [],
   "source": [
    "# YOUR CODE HERE"
   ]
  },
  {
   "cell_type": "markdown",
   "id": "0279462b",
   "metadata": {
    "id": "0279462b"
   },
   "source": [
    "#### Problem 23\n",
    "\n",
    "What's the probability of being absent more than twice?  \n",
    "\n",
    "Print the estimated value of P(Number_days_missed > 2).  As usual, use three significant digits when you print."
   ]
  },
  {
   "cell_type": "code",
   "execution_count": null,
   "id": "32cf25ee",
   "metadata": {
    "cellView": "form",
    "colab": {
     "base_uri": "https://localhost:8080/"
    },
    "executionInfo": {
     "elapsed": 38,
     "status": "ok",
     "timestamp": 1665190444963,
     "user": {
      "displayName": "Glenn",
      "userId": "10553525024667050874"
     },
     "user_tz": 420
    },
    "id": "32cf25ee",
    "outputId": "67e43301-9b16-44d2-948a-aa1996c23052"
   },
   "outputs": [],
   "source": [
    "# YOUR CODE HERE"
   ]
  },
  {
   "cell_type": "markdown",
   "id": "18314f68",
   "metadata": {
    "id": "18314f68"
   },
   "source": [
    "#### Problem 24\n",
    "\n",
    "How do absences and missing homework assignments related to course score?  This is the main question we're interested in.\n",
    "\n",
    "What's the probability of passing the course and missing more than two days and passing the course?  \n",
    "\n",
    "This is the joint probability P(Total >= 70, Number_days_missed > 2).  Print your answer."
   ]
  },
  {
   "cell_type": "code",
   "execution_count": null,
   "id": "8254bb5b",
   "metadata": {
    "cellView": "form",
    "colab": {
     "base_uri": "https://localhost:8080/"
    },
    "executionInfo": {
     "elapsed": 34,
     "status": "ok",
     "timestamp": 1665190444964,
     "user": {
      "displayName": "Glenn",
      "userId": "10553525024667050874"
     },
     "user_tz": 420
    },
    "id": "8254bb5b",
    "outputId": "faf91cda-5a9c-4d8b-a153-5337f07a3087"
   },
   "outputs": [],
   "source": [
    "# YOUR CODE HERE"
   ]
  },
  {
   "cell_type": "markdown",
   "id": "9471dedc",
   "metadata": {
    "id": "9471dedc"
   },
   "source": [
    "#### Problem 25\n",
    "\n",
    "A similar question is: what's the probability of passing the course **given** absences on more than two days.\n",
    "\n",
    "This is the conditional probability P(Total >= 70 | Number_days_missed > 2).  Compute and then print your answer."
   ]
  },
  {
   "cell_type": "code",
   "execution_count": null,
   "id": "04088953",
   "metadata": {
    "cellView": "form",
    "colab": {
     "base_uri": "https://localhost:8080/"
    },
    "executionInfo": {
     "elapsed": 29,
     "status": "ok",
     "timestamp": 1665190444964,
     "user": {
      "displayName": "Glenn",
      "userId": "10553525024667050874"
     },
     "user_tz": 420
    },
    "id": "04088953",
    "outputId": "c7926565-8559-4874-d666-1547662ab4d9"
   },
   "outputs": [],
   "source": [
    "# YOUR CODE HERE"
   ]
  },
  {
   "cell_type": "markdown",
   "id": "8debb453",
   "metadata": {
    "id": "8debb453"
   },
   "source": [
    "#### Problem 26\n",
    "\n",
    "The probability of passing with more than two absences is pretty high, but lower than the marginal probability of passing the class.\n",
    "\n",
    "What's the probability of passing the class with no absences?\n",
    "\n",
    "Print P(Total >= 70 | Number_days_missed = 0)."
   ]
  },
  {
   "cell_type": "code",
   "execution_count": null,
   "id": "987fed6b",
   "metadata": {
    "cellView": "form",
    "colab": {
     "base_uri": "https://localhost:8080/"
    },
    "executionInfo": {
     "elapsed": 24,
     "status": "ok",
     "timestamp": 1665190444965,
     "user": {
      "displayName": "Glenn",
      "userId": "10553525024667050874"
     },
     "user_tz": 420
    },
    "id": "987fed6b",
    "outputId": "5a7b7c6c-3b64-488e-d7fd-5f9767ea7a71"
   },
   "outputs": [],
   "source": [
    "# YOUR CODE HERE"
   ]
  },
  {
   "cell_type": "markdown",
   "id": "4cb367b7",
   "metadata": {
    "id": "4cb367b7"
   },
   "source": [
    "#### Problem 27\n",
    "\n",
    "In this section, everyone who never missed class passed.\n",
    "\n",
    "What's the probability of getting an A with more than 2 absences?\n",
    "\n",
    "Print P(Total >= 90 | Number_days_missed > 2)."
   ]
  },
  {
   "cell_type": "code",
   "execution_count": null,
   "id": "b566cb84",
   "metadata": {
    "cellView": "form",
    "colab": {
     "base_uri": "https://localhost:8080/"
    },
    "executionInfo": {
     "elapsed": 18,
     "status": "ok",
     "timestamp": 1665190444965,
     "user": {
      "displayName": "Glenn",
      "userId": "10553525024667050874"
     },
     "user_tz": 420
    },
    "id": "b566cb84",
    "outputId": "f691415a-752a-4e3d-8610-786936e68ca2"
   },
   "outputs": [],
   "source": [
    "# YOUR CODE HERE"
   ]
  },
  {
   "cell_type": "markdown",
   "id": "58183a77",
   "metadata": {
    "id": "58183a77"
   },
   "source": [
    "#### Problem 28\n",
    "\n",
    "We learned that no one with than two absences passed the class.\n",
    "\n",
    "Let's look now at missed homework assignments.  What's the probability of passing with 2 or more missing homework assignments?\n",
    "\n",
    "Print P(Total >= 70 | Number_hw_missed > 2)."
   ]
  },
  {
   "cell_type": "code",
   "execution_count": null,
   "id": "3a036f50",
   "metadata": {
    "cellView": "form",
    "colab": {
     "base_uri": "https://localhost:8080/"
    },
    "executionInfo": {
     "elapsed": 168,
     "status": "ok",
     "timestamp": 1665190445120,
     "user": {
      "displayName": "Glenn",
      "userId": "10553525024667050874"
     },
     "user_tz": 420
    },
    "id": "3a036f50",
    "outputId": "e931eef1-ccf6-4bc6-fbd0-cb569665c6ea"
   },
   "outputs": [],
   "source": [
    "# YOUR CODE HERE"
   ]
  },
  {
   "cell_type": "markdown",
   "id": "71809d4d",
   "metadata": {
    "id": "71809d4d"
   },
   "source": [
    "#### Problem 29\n",
    "\n",
    "We've looked at the probability of passing more than 2 missing homework assignments.\n",
    "\n",
    "What about the probability of missing 2 or more homework assignments given that a student passes the class?  Do you expect this probability value to be the same?\n",
    "\n",
    "Print P(Number_hw_missed > 2 | Total >= 70)."
   ]
  },
  {
   "cell_type": "code",
   "execution_count": null,
   "id": "95586f3f",
   "metadata": {
    "cellView": "form",
    "colab": {
     "base_uri": "https://localhost:8080/"
    },
    "executionInfo": {
     "elapsed": 10,
     "status": "ok",
     "timestamp": 1665190445121,
     "user": {
      "displayName": "Glenn",
      "userId": "10553525024667050874"
     },
     "user_tz": 420
    },
    "id": "95586f3f",
    "outputId": "2b2321dc-6f49-44c5-a3f9-4e9f574884cc"
   },
   "outputs": [],
   "source": [
    "# YOUR CODE HERE"
   ]
  },
  {
   "cell_type": "markdown",
   "id": "1ed0899c",
   "metadata": {
    "id": "1ed0899c"
   },
   "source": [
    "Do you have a good feel for the difference between P(Total >= 70 | Number_hw_missed > 2) and P(Number_hw_missed > 2 | Total >= 70)?"
   ]
  },
  {
   "cell_type": "markdown",
   "id": "e4cc3dbf",
   "metadata": {
    "id": "e4cc3dbf"
   },
   "source": [
    "#### Problem 30\n",
    "\n",
    "Is seems that not doing a homework assignment is more of a problem than being absent once.  That's what I would expect.\n",
    "\n",
    "What's the probability of getting an A with 2 or more missing homework assignments?\n",
    "\n",
    "Print P(Total >= 90 | Number_hw_missed > 2)."
   ]
  },
  {
   "cell_type": "code",
   "execution_count": null,
   "id": "b380d5e6",
   "metadata": {
    "cellView": "form",
    "colab": {
     "base_uri": "https://localhost:8080/"
    },
    "executionInfo": {
     "elapsed": 8,
     "status": "ok",
     "timestamp": 1665190445122,
     "user": {
      "displayName": "Glenn",
      "userId": "10553525024667050874"
     },
     "user_tz": 420
    },
    "id": "b380d5e6",
    "outputId": "d1fd047a-ff02-41c3-b7dc-5ef31154bd17"
   },
   "outputs": [],
   "source": [
    "# YOUR CODE HERE"
   ]
  },
  {
   "cell_type": "markdown",
   "id": "376ce489",
   "metadata": {
    "id": "376ce489"
   },
   "source": [
    "The homework score is a big component of the final course score, so this is not surprising."
   ]
  },
  {
   "cell_type": "markdown",
   "id": "fe1346ec",
   "metadata": {
    "id": "fe1346ec"
   },
   "source": [
    "#### Problem 31\n",
    "\n",
    "Instead of computing probabilities, let's look at the distribution of grades for those with more than 2 absences, and for those with no more than 2 absences.\n",
    "\n",
    "First, create a density plot for the variable Total, but only use the rows of the data in which there are more than two absences.\n",
    "\n",
    "Use 40-110 as the x axis limits.  "
   ]
  },
  {
   "cell_type": "code",
   "execution_count": null,
   "id": "2a98a14e",
   "metadata": {
    "cellView": "form",
    "colab": {
     "base_uri": "https://localhost:8080/",
     "height": 301
    },
    "executionInfo": {
     "elapsed": 504,
     "status": "ok",
     "timestamp": 1665191143265,
     "user": {
      "displayName": "Glenn",
      "userId": "10553525024667050874"
     },
     "user_tz": 420
    },
    "id": "2a98a14e",
    "outputId": "b1e4c47c-3bc2-4034-8068-9daa8046ab85"
   },
   "outputs": [],
   "source": [
    "# YOUR CODE HERE"
   ]
  },
  {
   "cell_type": "markdown",
   "id": "9f285b42",
   "metadata": {
    "id": "9f285b42"
   },
   "source": [
    "#### Problem 32\n",
    "\n",
    "Now create a density plot for the variable Total, but only use the rows of the data in which there are no more than two absences.\n",
    "\n",
    "Again, use 40-110 as the x axis limits. Using the same x axis range on the two plots will make them easier to compare."
   ]
  },
  {
   "cell_type": "code",
   "execution_count": null,
   "id": "1c4c16e5",
   "metadata": {
    "cellView": "form",
    "colab": {
     "base_uri": "https://localhost:8080/",
     "height": 301
    },
    "executionInfo": {
     "elapsed": 1024,
     "status": "ok",
     "timestamp": 1665191152074,
     "user": {
      "displayName": "Glenn",
      "userId": "10553525024667050874"
     },
     "user_tz": 420
    },
    "id": "1c4c16e5",
    "outputId": "5de51c35-0ac1-4edb-fc22-9ccdb9523850"
   },
   "outputs": [],
   "source": [
    "# YOUR CODE HERE"
   ]
  },
  {
   "cell_type": "markdown",
   "id": "5e7bad14",
   "metadata": {
    "id": "5e7bad14"
   },
   "source": [
    "#### Problem 33\n",
    "\n",
    "To make comparison of the distributions easier, they can be plotted in the same plot.\n",
    "\n",
    "Create a new plot showing the two densities of the last two plots.  Refer to the 'plotting basics' slides for information on creating a legend.  The Pandas density() method accepts a 'label' parameter."
   ]
  },
  {
   "cell_type": "code",
   "execution_count": null,
   "id": "d1e3cb47",
   "metadata": {
    "cellView": "form",
    "colab": {
     "base_uri": "https://localhost:8080/",
     "height": 301
    },
    "executionInfo": {
     "elapsed": 901,
     "status": "ok",
     "timestamp": 1665191167324,
     "user": {
      "displayName": "Glenn",
      "userId": "10553525024667050874"
     },
     "user_tz": 420
    },
    "id": "d1e3cb47",
    "outputId": "e71d6ca1-a0e4-4aef-b1b7-15ee01b3ed56",
    "scrolled": false
   },
   "outputs": [],
   "source": [
    "# YOUR CODE HERE"
   ]
  },
  {
   "cell_type": "markdown",
   "id": "5a0d3621",
   "metadata": {
    "id": "5a0d3621"
   },
   "source": [
    "Having more than two absences has a big impact on the course grade.  However, note that part of the course grade is a participation component, which is affected by absences.  "
   ]
  },
  {
   "cell_type": "markdown",
   "id": "7b6732f1",
   "metadata": {
    "id": "7b6732f1"
   },
   "source": [
    "#### Problem 34\n",
    "\n",
    "What about the combination of missing class and missing homework assignments?  Is missing class *and* missing homework assignments particularly bad?\n",
    "\n",
    "Print P(Total >= 70 | (Num_hw_missed > 2 and Number_days_missed > 2))"
   ]
  },
  {
   "cell_type": "code",
   "execution_count": null,
   "id": "2b42a2fb",
   "metadata": {
    "cellView": "form",
    "colab": {
     "base_uri": "https://localhost:8080/"
    },
    "executionInfo": {
     "elapsed": 209,
     "status": "ok",
     "timestamp": 1665190447659,
     "user": {
      "displayName": "Glenn",
      "userId": "10553525024667050874"
     },
     "user_tz": 420
    },
    "id": "2b42a2fb",
    "outputId": "ba7cd87e-80f8-4155-eefa-be68d682c2e4"
   },
   "outputs": [],
   "source": [
    "# YOUR CODE HERE"
   ]
  },
  {
   "cell_type": "markdown",
   "id": "a8d6bd31",
   "metadata": {
    "id": "a8d6bd31"
   },
   "source": [
    "#### Problem 35\n",
    "\n",
    "Did people who got A's on their projects get an A in the class?\n",
    "\n",
    "What's the probability of getting an A in the class given an average project score of A?\n",
    "\n",
    "Print P(Total >= 90 | Projects >= 90)"
   ]
  },
  {
   "cell_type": "code",
   "execution_count": null,
   "id": "e8476a4b",
   "metadata": {
    "cellView": "form",
    "colab": {
     "base_uri": "https://localhost:8080/"
    },
    "executionInfo": {
     "elapsed": 5,
     "status": "ok",
     "timestamp": 1665190447660,
     "user": {
      "displayName": "Glenn",
      "userId": "10553525024667050874"
     },
     "user_tz": 420
    },
    "id": "e8476a4b",
    "outputId": "7d68f004-468b-4ef3-e6a9-41c37238f3a0"
   },
   "outputs": [],
   "source": [
    "# YOUR CODE HERE"
   ]
  },
  {
   "cell_type": "markdown",
   "id": "978da36b",
   "metadata": {
    "id": "978da36b"
   },
   "source": [
    "More than half of the people who got A's on their projects got A's in the class, but this is partly because the project grade is a big part of the total grade."
   ]
  },
  {
   "cell_type": "markdown",
   "id": "096f2b22",
   "metadata": {},
   "source": [
    "#### Problem 36\n",
    "\n",
    "Write one paragraph describing some of the specific things you learned about the grades in the class.\n",
    "\n",
    "Please focus on what you learned about the subject of the data -- the grades from a section of 383 -- and not on the tools we used, what you learned about writing Pandas code, etc.\n",
    "\n",
    "Put your text in the markdown cell below."
   ]
  },
  {
   "cell_type": "markdown",
   "id": "fb92376a",
   "metadata": {},
   "source": [
    "*** Replace this text with your paragraph. ***"
   ]
  }
 ],
 "metadata": {
  "colab": {
   "provenance": []
  },
  "kernelspec": {
   "display_name": "Python 3 (ipykernel)",
   "language": "python",
   "name": "python3"
  },
  "language_info": {
   "codemirror_mode": {
    "name": "ipython",
    "version": 3
   },
   "file_extension": ".py",
   "mimetype": "text/x-python",
   "name": "python",
   "nbconvert_exporter": "python",
   "pygments_lexer": "ipython3",
   "version": "3.11.4"
  }
 },
 "nbformat": 4,
 "nbformat_minor": 5
}
